{
 "cells": [
  {
   "cell_type": "code",
   "execution_count": 1,
   "id": "8505562c-3082-49ea-b4e9-7e16984d5155",
   "metadata": {},
   "outputs": [
    {
     "ename": "AttributeError",
     "evalue": "Can't get attribute 'Bird_Counter' on <module '__main__'>",
     "output_type": "error",
     "traceback": [
      "\u001b[0;31m---------------------------------------------------------------------------\u001b[0m",
      "\u001b[0;31mAttributeError\u001b[0m                            Traceback (most recent call last)",
      "\u001b[0;32m<ipython-input-1-0d4097c602b3>\u001b[0m in \u001b[0;36m<module>\u001b[0;34m\u001b[0m\n\u001b[1;32m      2\u001b[0m \u001b[0;34m\u001b[0m\u001b[0m\n\u001b[1;32m      3\u001b[0m \u001b[0;32mwith\u001b[0m \u001b[0mopen\u001b[0m\u001b[0;34m(\u001b[0m\u001b[0;34m\"bird.pkl\"\u001b[0m\u001b[0;34m,\u001b[0m \u001b[0;34m\"rb\"\u001b[0m\u001b[0;34m)\u001b[0m \u001b[0;32mas\u001b[0m \u001b[0mf\u001b[0m\u001b[0;34m:\u001b[0m\u001b[0;34m\u001b[0m\u001b[0;34m\u001b[0m\u001b[0m\n\u001b[0;32m----> 4\u001b[0;31m     \u001b[0mc\u001b[0m \u001b[0;34m=\u001b[0m \u001b[0mpickle\u001b[0m\u001b[0;34m.\u001b[0m\u001b[0mload\u001b[0m\u001b[0;34m(\u001b[0m\u001b[0mf\u001b[0m\u001b[0;34m)\u001b[0m\u001b[0;34m\u001b[0m\u001b[0;34m\u001b[0m\u001b[0m\n\u001b[0m",
      "\u001b[0;31mAttributeError\u001b[0m: Can't get attribute 'Bird_Counter' on <module '__main__'>"
     ]
    }
   ],
   "source": [
    "import pickle\n",
    "\n",
    "with open(\"bird.pkl\", \"rb\") as f:\n",
    "    c = pickle.load(f)"
   ]
  },
  {
   "cell_type": "code",
   "execution_count": 2,
   "id": "d6fa6b0e-c45d-42f0-8a9a-04e71ad3fc39",
   "metadata": {},
   "outputs": [],
   "source": [
    "class Bird_Counter:\n",
    "    def __init__(self, variety=[], locations=[]):\n",
    "        self.variety = variety\n",
    "        self.locations = locations\n",
    "\n",
    "    def get_birds(self):\n",
    "        url = \"https://api.ebird.org/v2/data/obs/US-UT/recent\"\n",
    "        payload = {}\n",
    "        headers = {\"X-eBirdApiToken\": EBIRD_KEY}\n",
    "        response = requests.request(\"GET\", url, headers=headers, data=payload)\n",
    "        self.variety = [x[\"comName\"] for x in json.loads(response.text)]\n",
    "        self.locations = [(x[\"lat\"], x[\"lng\"]) for x in json.loads(response.text)]"
   ]
  },
  {
   "cell_type": "code",
   "execution_count": 3,
   "id": "833f8f23-8ad7-4fd4-9263-1f0ff2324e8d",
   "metadata": {},
   "outputs": [
    {
     "name": "stdout",
     "output_type": "stream",
     "text": [
      "There were 265 birds.\n",
      "One of the birds was a Bald Eagle.\n",
      "One of the locations was (40.4846248, -111.4994502).\n"
     ]
    }
   ],
   "source": [
    "with open(\"bird.pkl\", \"rb\") as f:\n",
    "    c = pickle.load(f)\n",
    "\n",
    "print(f\"There were {len(c.variety)} birds.\")\n",
    "print(f\"One of the birds was a {c.variety[0]}.\")\n",
    "print(f\"One of the locations was {c.locations[0]}.\")"
   ]
  },
  {
   "cell_type": "markdown",
   "id": "2c106ba8-13d6-47d2-975a-fd33511e4da7",
   "metadata": {},
   "source": [
    "Note: Our friend didn't even have `EBIRD_KEY`. This object was reconstructed from the binary pickle, not a call to `__init__` or any of the class methods."
   ]
  },
  {
   "cell_type": "markdown",
   "id": "214b1081-6953-4f27-ad3b-d8bfbd06c287",
   "metadata": {},
   "source": [
    "## Dill"
   ]
  },
  {
   "cell_type": "code",
   "execution_count": 4,
   "id": "0a192446-ccd2-4804-9275-7c9bf1efe1f7",
   "metadata": {},
   "outputs": [
    {
     "name": "stdout",
     "output_type": "stream",
     "text": [
      "There were 265 dogs.\n"
     ]
    }
   ],
   "source": [
    "import dill\n",
    "\n",
    "with open(\"dog.dill\", \"rb\") as f:\n",
    "    d = dill.load(f)\n",
    "\n",
    "print(f\"There were {len(d.variety)} dogs.\")"
   ]
  },
  {
   "cell_type": "markdown",
   "id": "1aa336ae-712a-4db8-be42-a30899ddcff5",
   "metadata": {},
   "source": [
    "Note: Our friend has no definition of `Dog_Counter`."
   ]
  },
  {
   "cell_type": "markdown",
   "id": "7ea8e05f-2a92-4c86-a889-59169e7eb5e5",
   "metadata": {},
   "source": [
    "## msgpack"
   ]
  },
  {
   "cell_type": "code",
   "execution_count": 5,
   "id": "3f3dd453-033b-4ed2-ab16-fe7eb82ef2a3",
   "metadata": {},
   "outputs": [
    {
     "name": "stdout",
     "output_type": "stream",
     "text": [
      "There were 265 birds.\n",
      "One of the birds was a Bald Eagle.\n",
      "One of the locations was [40.4846248, -111.4994502].\n"
     ]
    }
   ],
   "source": [
    "import msgpack\n",
    "\n",
    "with open(\"msgpack_bird.bin\", \"rb\") as f:\n",
    "    result = msgpack.load(f)\n",
    "\n",
    "e = Bird_Counter(**result)\n",
    "\n",
    "print(f\"There were {len(e.variety)} birds.\")\n",
    "print(f\"One of the birds was a {e.variety[0]}.\")\n",
    "print(f\"One of the locations was {e.locations[0]}.\")"
   ]
  },
  {
   "cell_type": "markdown",
   "id": "59857f23-61f9-4533-82ca-38663f0828d7",
   "metadata": {},
   "source": [
    "## Marshmallow"
   ]
  },
  {
   "cell_type": "code",
   "execution_count": 6,
   "id": "5066effa-d887-41ee-ab80-31518835f5a0",
   "metadata": {},
   "outputs": [],
   "source": [
    "from marshmallow import Schema, fields, post_load\n",
    "\n",
    "\n",
    "class CountSchema(Schema):\n",
    "    variety = fields.List(fields.String)\n",
    "    locations = fields.List(fields.Tuple((fields.Float, fields.Float)))\n",
    "\n",
    "    @post_load\n",
    "    def make_count(self, data, **kwargs):\n",
    "        return Bird_Counter(**data)"
   ]
  },
  {
   "cell_type": "code",
   "execution_count": 7,
   "id": "4be8966c-b389-4823-b530-2ceb578e547b",
   "metadata": {},
   "outputs": [
    {
     "name": "stdout",
     "output_type": "stream",
     "text": [
      "There were 265 birds.\n",
      "One of the birds was a Bald Eagle.\n",
      "One of the locations was (40.4846248, -111.4994502).\n"
     ]
    }
   ],
   "source": [
    "import json\n",
    "\n",
    "schema = CountSchema()\n",
    "with open(\"marshmallow_bird.json\", \"r\") as f:\n",
    "    result = json.load(f)\n",
    "\n",
    "f = schema.loads(result)\n",
    "print(f\"There were {len(f.variety)} birds.\")\n",
    "print(f\"One of the birds was a {f.variety[0]}.\")\n",
    "print(f\"One of the locations was {f.locations[0]}.\")"
   ]
  },
  {
   "cell_type": "markdown",
   "id": "ec765b56-e294-434c-a358-e0435cc16af4",
   "metadata": {},
   "source": [
    "Notice how in both msgpack and Marshmallow, we rely on having access to `Bird_Counter` and how we actually re-initialize a new object (in contrast to Dill).\n",
    "\n",
    "[Do transporters kill you?](https://starships.com/teleporters-kill-you-the-science/)"
   ]
  },
  {
   "cell_type": "markdown",
   "id": "789900cc-9162-4265-854e-1ca5f54746ae",
   "metadata": {},
   "source": [
    "Also note that our serialization format was really `json`. If you have things that are not json-able by default (scikit-learn classifiers, for example), you'll have to do write (de)serialization functions."
   ]
  },
  {
   "cell_type": "markdown",
   "id": "0314dd2d-9871-4f58-8f21-5c9d5792ab63",
   "metadata": {},
   "source": [
    "## New dev joins project"
   ]
  },
  {
   "cell_type": "code",
   "execution_count": 8,
   "id": "57e77347-bd58-4ccb-b11c-9f4e335319df",
   "metadata": {},
   "outputs": [],
   "source": [
    "class FakeObject:\n",
    "    def __init__(self, a=0, b=0, c=0):\n",
    "        self.a = a\n",
    "        self.b = b\n",
    "        self.c = c"
   ]
  },
  {
   "cell_type": "code",
   "execution_count": 9,
   "id": "34f4ce95-a63b-4804-be24-8638930967eb",
   "metadata": {},
   "outputs": [
    {
     "data": {
      "text/plain": [
       "{'a': 1, 'b': 1}"
      ]
     },
     "execution_count": 9,
     "metadata": {},
     "output_type": "execute_result"
    }
   ],
   "source": [
    "with open(\"fake_v1.pkl\", \"rb\") as f:\n",
    "    version2 = pickle.load(f)\n",
    "\n",
    "version2.__dict__"
   ]
  },
  {
   "cell_type": "markdown",
   "id": "70438c0b-8a91-4b0b-ba84-1d3feeb795ca",
   "metadata": {},
   "source": [
    "## Be careful, friend"
   ]
  },
  {
   "cell_type": "code",
   "execution_count": 10,
   "id": "88e10900-712f-4864-872b-92eefa1d0709",
   "metadata": {},
   "outputs": [],
   "source": [
    "with open(\"bad.pkl\", \"rb\") as f:\n",
    "    d = pickle.load(f)"
   ]
  },
  {
   "cell_type": "code",
   "execution_count": null,
   "id": "be61452f-07f9-4db6-8e33-db43d2b35808",
   "metadata": {},
   "outputs": [],
   "source": []
  }
 ],
 "metadata": {
  "kernelspec": {
   "display_name": "Python 3",
   "language": "python",
   "name": "python3"
  },
  "language_info": {
   "codemirror_mode": {
    "name": "ipython",
    "version": 3
   },
   "file_extension": ".py",
   "mimetype": "text/x-python",
   "name": "python",
   "nbconvert_exporter": "python",
   "pygments_lexer": "ipython3",
   "version": "3.9.9"
  }
 },
 "nbformat": 4,
 "nbformat_minor": 5
}
