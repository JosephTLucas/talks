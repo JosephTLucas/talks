{
 "cells": [
  {
   "cell_type": "markdown",
   "id": "14923104-4c85-4a01-9d6c-4301a7ed6f8c",
   "metadata": {},
   "source": [
    "# Serialization: More than Pickling  \n",
    "Alternatively: Serialization, an unopinianated introduction  \n",
    "PyCon US 2022  \n",
    "Joe Lucas\n",
    "\n",
    "Notebooks available: https://github.com/JosephTLucas/pycon22\n",
    "\n",
    "API: https://ebird.org/home\n",
    "\n",
    "Plug: https://operationcode.org"
   ]
  },
  {
   "cell_type": "markdown",
   "id": "a20d93f6-11b8-49c2-9f2c-99251e171dd4",
   "metadata": {},
   "source": [
    "## What is \"serialization\"?\n",
    "\n",
    "**to serialize** (_verb_): to translate a data structure into something that can be _stored_, _transmitted_, or _reconstructed_ later.\n",
    "\n",
    "Not storing, transmitting, or reconstructing. Just converting the data into a format conducive to those actions.\n",
    "\n",
    "### Types\n",
    "\n",
    "Plaintext vs. **Binary**\n",
    "\n",
    "### Why?\n",
    "\n",
    "You've spent hours training a machine learning model. How do you save it and use it later?\n",
    "\n",
    "You've built an in-memory object with costly, time-dependent queries (e.g. a snapshot). How do you share it with colleagues?"
   ]
  },
  {
   "cell_type": "code",
   "execution_count": null,
   "id": "089f1052-2347-4705-8bed-9cdd0fad69fb",
   "metadata": {
    "tags": []
   },
   "outputs": [],
   "source": [
    "from utils import EBIRD_KEY"
   ]
  },
  {
   "cell_type": "code",
   "execution_count": null,
   "id": "b1e5cdef-45f5-4f6e-96f8-d1644b43a6f1",
   "metadata": {},
   "outputs": [],
   "source": [
    "import requests\n",
    "import json\n",
    "\n",
    "\n",
    "class Bird_Counter:\n",
    "    def __init__(self, variety=[], locations=[]):\n",
    "        self.variety = variety\n",
    "        self.locations = locations\n",
    "\n",
    "    def get_birds(self):\n",
    "        url = \"https://api.ebird.org/v2/data/obs/US-UT/recent\"\n",
    "        payload = {}\n",
    "        headers = {\"X-eBirdApiToken\": EBIRD_KEY}\n",
    "        response = requests.request(\"GET\", url, headers=headers, data=payload)\n",
    "        self.variety = [x[\"comName\"] for x in json.loads(response.text)]\n",
    "        self.locations = [(x[\"lat\"], x[\"lng\"]) for x in json.loads(response.text)]"
   ]
  },
  {
   "cell_type": "markdown",
   "id": "26a344ff-5e09-4be2-bab6-b31167ecb41e",
   "metadata": {},
   "source": [
    "## API Orientation"
   ]
  },
  {
   "cell_type": "code",
   "execution_count": null,
   "id": "bda00dbe-4523-405d-918c-f26c645ed64a",
   "metadata": {},
   "outputs": [],
   "source": [
    "url = \"https://api.ebird.org/v2/data/obs/US-UT/recent\"\n",
    "payload = {}\n",
    "headers = {\"X-eBirdApiToken\": EBIRD_KEY}\n",
    "response = requests.request(\"GET\", url, headers=headers, data=payload)\n",
    "result = json.loads(response.text)\n",
    "result[0]"
   ]
  },
  {
   "cell_type": "code",
   "execution_count": null,
   "id": "6a05eeb0-9aab-42f0-af27-4bf2a10e3bf2",
   "metadata": {},
   "outputs": [],
   "source": [
    "%%time\n",
    "b = Bird_Counter()\n",
    "b.get_birds()\n",
    "print(f\"There were {len(b.variety)} birds.\")\n",
    "print(f\"One of the birds was a {b.variety[0]}.\")\n",
    "print(f\"One of the locations was {b.locations[0]}.\")"
   ]
  },
  {
   "cell_type": "markdown",
   "id": "cb0e5762-e3de-496a-8a57-b0b11bfa980d",
   "metadata": {},
   "source": [
    "## [Pickle](https://docs.python.org/3/library/pickle.html)"
   ]
  },
  {
   "cell_type": "code",
   "execution_count": null,
   "id": "e1015984-b261-4a88-9b9c-3a2b1b0a47b5",
   "metadata": {},
   "outputs": [],
   "source": [
    "import pickle\n",
    "\n",
    "with open(\"bird.pkl\", \"wb\") as f:\n",
    "    pickle.dump(b, f)"
   ]
  },
  {
   "cell_type": "code",
   "execution_count": null,
   "id": "cae2e20f-dc4e-461f-9902-96a5dbe2daea",
   "metadata": {},
   "outputs": [],
   "source": [
    "with open(\"bird.pkl\", \"rb\") as f:\n",
    "    c = pickle.load(f)\n",
    "\n",
    "print(f\"There were {len(c.variety)} birds.\")\n",
    "print(f\"One of the birds was a {c.variety[0]}.\")\n",
    "print(f\"One of the locations was {c.locations[0]}.\")"
   ]
  },
  {
   "cell_type": "code",
   "execution_count": null,
   "id": "8eb78282-7dfb-4b68-8a5b-5721b1334e61",
   "metadata": {},
   "outputs": [],
   "source": [
    "b == c"
   ]
  },
  {
   "cell_type": "markdown",
   "id": "c8a54b75-6b29-48fe-a2f3-7c956008d79b",
   "metadata": {},
   "source": [
    "**Let's share our pickle with a friend.**"
   ]
  },
  {
   "cell_type": "markdown",
   "id": "1e468b66-0dfa-4c4c-b31c-a85bf5199112",
   "metadata": {},
   "source": [
    "### Pros\n",
    "\n",
    "1. Standard Library\n",
    "2. We didn't have to define a schema\n",
    "3. Well documented\n",
    "\n",
    "    a. \"Consider signing data with `hmac` if you need to ensure that it has not been tampered with.\"\n",
    "    \n",
    "    b. [Comparison with json](https://docs.python.org/3/library/pickle.html#comparison-with-json)\n",
    "    \n",
    "    c. [Format](https://docs.python.org/3/library/pickle.html#data-stream-format)\n",
    "    \n",
    "    d. [What can be (un)pickled?](https://docs.python.org/3/library/pickle.html#what-can-be-pickled-and-unpickled)"
   ]
  },
  {
   "cell_type": "markdown",
   "id": "31ef62f2-ee2b-43a6-b3da-a8d9a7dce694",
   "metadata": {},
   "source": [
    "### Cons\n",
    "\n",
    "1. Security considerations\n",
    "2. Only interoperable with Python\n",
    "3. `load` still requires access to the class definition"
   ]
  },
  {
   "cell_type": "markdown",
   "id": "6e7f6f99-bb66-4084-bf20-ef6044e55491",
   "metadata": {},
   "source": [
    "### For those of you with pandas laying around..."
   ]
  },
  {
   "cell_type": "code",
   "execution_count": null,
   "id": "ef0d817b-9397-4b9a-b54d-663d08269a26",
   "metadata": {},
   "outputs": [],
   "source": [
    "import pandas as pd\n",
    "\n",
    "pd.to_pickle(b, \"pandas.pkl\")"
   ]
  },
  {
   "cell_type": "markdown",
   "id": "8f344ae5-eee9-4260-ac3c-ca6bb99c2778",
   "metadata": {},
   "source": [
    "## Things that use Pickle\n",
    "\n",
    "[Shelve](https://docs.python.org/3/library/shelve.html)\n",
    "\n",
    "For example, we could create a new `Bird_Counter()` every day, pickle it, and use the date as a key (keys must be strings).\n",
    "\n",
    "[Joblib](https://joblib.readthedocs.io/en/latest/)\n",
    "\n",
    "\"In the specific case of scikit-learn, it may be better to use joblib’s replacement of pickle (dump & load), which is more efficient on objects that carry large numpy arrays internally as is often the case for fitted scikit-learn estimators\"\n",
    "\n",
    "-- https://scikit-learn.org/stable/modules/model_persistence.html#python-specific-serialization"
   ]
  },
  {
   "cell_type": "markdown",
   "id": "2c2aaa14-df51-4386-87d7-2be4c448ae5d",
   "metadata": {},
   "source": [
    "The more we know about our data structure, the more we can optimize our serialization. If you're serializing an object from a library, check to see if there's an established method."
   ]
  },
  {
   "cell_type": "markdown",
   "id": "6b141312-9021-405d-b3a9-8f6ddec20ede",
   "metadata": {},
   "source": [
    "## Related Projects\n",
    "\n",
    "[Ice Pickle](https://github.com/koaning/icepickle): a safe way to serialize and deserialize linear scikit-learn models. (backed by hdf5)\n",
    "\n",
    "[Fickling](https://github.com/trailofbits/fickling): decompiler, static analyzer, and bytecode rewriter for Python pickle object serializations. Fickling can take pickled data streams and decompile them into human-readable Python code that, when executed, will deserialize to the original serialized object."
   ]
  },
  {
   "cell_type": "markdown",
   "id": "4e489ed4-3b49-4bd8-89a4-38194e43d394",
   "metadata": {},
   "source": [
    "## Alternatives"
   ]
  },
  {
   "cell_type": "markdown",
   "id": "591e4f52-b170-4921-84e9-59f6c4748014",
   "metadata": {},
   "source": [
    "## [Dill](https://pypi.org/project/dill/)\n",
    "\n",
    "\"dill provides the user the **same interface as the pickle module**, and also includes some additional features. In addition to pickling python objects, dill provides the ability to **save the state of an interpreter session** in a single command. Hence, it would be feasable to **save an interpreter session, close the interpreter, ship the pickled file to another computer, open a new interpreter, unpickle the session and thus continue from the ‘saved’ state** of the original interpreter session.\"\n",
    "\n",
    "\"dill can be used to store python objects to a file, but the **primary usage is to send python objects across the network as a byte stream**. dill is quite flexible, and allows arbitrary user defined classes and functions to be serialized. Thus dill is **not intended to be secure against erroneously or maliciously constructed data**.\""
   ]
  },
  {
   "cell_type": "code",
   "execution_count": null,
   "id": "49173733-5896-4df3-a019-771c810ab0da",
   "metadata": {},
   "outputs": [],
   "source": [
    "import dill"
   ]
  },
  {
   "cell_type": "code",
   "execution_count": null,
   "id": "41a4a895-8cb9-4c3e-b956-4175c911b3bb",
   "metadata": {},
   "outputs": [],
   "source": [
    "import requests\n",
    "\n",
    "\n",
    "class Dog_Counter:\n",
    "    def __init__(self, variety=[], locations=[]):\n",
    "        self.variety = variety\n",
    "        self.locations = locations\n",
    "\n",
    "    def get_dogs(self):\n",
    "        url = \"https://api.ebird.org/v2/data/obs/US-UT/recent\"\n",
    "        payload = {}\n",
    "        headers = {\"X-eBirdApiToken\": EBIRD_KEY}\n",
    "        response = requests.request(\"GET\", url, headers=headers, data=payload)\n",
    "        self.variety = [x[\"comName\"] for x in json.loads(response.text)]\n",
    "        self.locations = [(x[\"lat\"], x[\"lng\"]) for x in json.loads(response.text)]"
   ]
  },
  {
   "cell_type": "code",
   "execution_count": null,
   "id": "104b2163-03e8-47c6-8d22-6c0e052d1a37",
   "metadata": {},
   "outputs": [],
   "source": [
    "d = Dog_Counter()\n",
    "d.get_dogs()\n",
    "print(f\"There were {len(d.variety)} dogs.\")"
   ]
  },
  {
   "cell_type": "code",
   "execution_count": null,
   "id": "fef7737e-5c82-4a71-94e3-37f44c208164",
   "metadata": {
    "tags": []
   },
   "outputs": [],
   "source": [
    "with open(\"dog.dill\", \"wb\") as f:\n",
    "    dill.dump(d, f)"
   ]
  },
  {
   "cell_type": "markdown",
   "id": "f92c8e3d-c209-4b3b-b582-3d2f470ec602",
   "metadata": {},
   "source": [
    "## [msgpack](https://github.com/msgpack/msgpack-python)\n",
    "\n",
    "\"efficient binary serialization format. It lets you exchange data among multiple languages like JSON. But it's faster and smaller, efficient binary serialization format. It lets you exchange data among multiple languages like JSON.\""
   ]
  },
  {
   "cell_type": "code",
   "execution_count": null,
   "id": "716c9e95-d816-427e-9f5b-8bf95af92162",
   "metadata": {},
   "outputs": [],
   "source": [
    "import msgpack\n",
    "\n",
    "with open(\"msgpack_bird.bin\", \"wb\") as f:\n",
    "    msgpack.dump(b.__dict__, f)"
   ]
  },
  {
   "cell_type": "markdown",
   "id": "2ef6a5c9-5fe0-4e28-9ae1-7c5fa2a1ed2d",
   "metadata": {},
   "source": [
    "## Disengage Autopilot\n",
    "\n",
    "Everything after this point will require us to start thinking about schema."
   ]
  },
  {
   "cell_type": "markdown",
   "id": "c073e130-cdf5-4125-a1c3-e2b77ee12940",
   "metadata": {},
   "source": [
    "## [Marshmallow](https://github.com/marshmallow-code/marshmallow)\n",
    "\n",
    "See also [Flask-Marshmallow](https://github.com/marshmallow-code/flask-marshmallow) and [Django REST Marshmallow](https://github.com/marshmallow-code/django-rest-marshmallow)"
   ]
  },
  {
   "cell_type": "code",
   "execution_count": null,
   "id": "fddf6c96-e211-4f38-a3ee-a8f43cbffb35",
   "metadata": {},
   "outputs": [],
   "source": [
    "from marshmallow import Schema, fields\n",
    "\n",
    "CountSchema = Schema.from_dict(\n",
    "    {\n",
    "        \"variety\": fields.List(fields.String),\n",
    "        \"locations\": fields.List(fields.Tuple((fields.Float, fields.Float))),\n",
    "    }\n",
    ")\n",
    "schema = CountSchema()"
   ]
  },
  {
   "cell_type": "code",
   "execution_count": null,
   "id": "f7045bba-0263-4f61-9e37-f0011052dfa1",
   "metadata": {},
   "outputs": [],
   "source": [
    "result = schema.dumps(b)"
   ]
  },
  {
   "cell_type": "code",
   "execution_count": null,
   "id": "48bd1545-226b-4efc-b125-14395aa33757",
   "metadata": {},
   "outputs": [],
   "source": [
    "import json\n",
    "\n",
    "with open(\"marshmallow_bird.json\", \"w\") as f:\n",
    "    json.dump(result, f)"
   ]
  },
  {
   "cell_type": "markdown",
   "id": "2bb6fb47-7424-435d-b5e8-3a07f8407108",
   "metadata": {},
   "source": [
    "## Others\n",
    "\n",
    "[Avro](https://avro.apache.org/docs/current/gettingstartedpython.html), [Protobuf](https://developers.google.com/protocol-buffers/docs/pythontutorial)"
   ]
  },
  {
   "cell_type": "markdown",
   "id": "46cc6612-d7c9-4e3e-be38-63040889dca1",
   "metadata": {},
   "source": [
    "## Bonus Serialization\n",
    "\n",
    "How were we receiving data from the ebird API? `json`\n",
    "\n",
    "### Pros\n",
    "1. Human-readable\n",
    "2. Available everywhere\n",
    "\n",
    "### Cons\n",
    "1. Attaches schema every time\n",
    "2. Limited types"
   ]
  },
  {
   "cell_type": "code",
   "execution_count": null,
   "id": "c656e877-ae8f-427f-bfb9-958eb6d4dbb1",
   "metadata": {},
   "outputs": [],
   "source": [
    "json_birds = dict()\n",
    "\n",
    "json_birds[\"variety\"] = [x[\"comName\"] for x in json.loads(response.text)]\n",
    "json_birds[\"locations\"] = [(x[\"lat\"], x[\"lng\"]) for x in json.loads(response.text)]\n",
    "\n",
    "with open(\"birds.json\", \"w\") as f:\n",
    "    json.dump(json_birds, f)"
   ]
  },
  {
   "cell_type": "markdown",
   "id": "b96200e0-9fb7-4278-b981-ea7ee83c29ad",
   "metadata": {},
   "source": [
    "## Time and Space"
   ]
  },
  {
   "cell_type": "markdown",
   "id": "7ae3be8c-0b07-4279-b55c-aee82ae2e9e2",
   "metadata": {},
   "source": [
    "### JSON"
   ]
  },
  {
   "cell_type": "code",
   "execution_count": null,
   "id": "643e478b-c8e5-4a8c-b67b-5b3426d75b51",
   "metadata": {},
   "outputs": [],
   "source": [
    "%%timeit\n",
    "with open(\"bird.json\", \"w\") as f:\n",
    "    json.dump(json_birds, f)"
   ]
  },
  {
   "cell_type": "code",
   "execution_count": null,
   "id": "ed9f3abb-926f-4284-849d-48312997ef1f",
   "metadata": {},
   "outputs": [],
   "source": [
    "import os\n",
    "\n",
    "os.path.getsize(\"bird.json\")"
   ]
  },
  {
   "cell_type": "markdown",
   "id": "bcd58d13-a10b-48e4-a061-12c79c81d5c2",
   "metadata": {},
   "source": [
    "### Pickle"
   ]
  },
  {
   "cell_type": "code",
   "execution_count": null,
   "id": "f7a96235-bf30-4ddf-8ba9-9e987f823a2b",
   "metadata": {},
   "outputs": [],
   "source": [
    "%%timeit\n",
    "with open(\"bird.pkl\", \"wb\") as f:\n",
    "    pickle.dump(b, f)"
   ]
  },
  {
   "cell_type": "code",
   "execution_count": null,
   "id": "087e1345-47f0-4167-a7dd-7ac84a5c2330",
   "metadata": {},
   "outputs": [],
   "source": [
    "os.path.getsize(\"bird.pkl\")"
   ]
  },
  {
   "cell_type": "markdown",
   "id": "3b12d98b-bfc4-4e5a-bec6-57cba0fdebee",
   "metadata": {},
   "source": [
    "### Dill"
   ]
  },
  {
   "cell_type": "code",
   "execution_count": null,
   "id": "d907d67d-34d0-4b5a-8f9e-94ad05277ba3",
   "metadata": {},
   "outputs": [],
   "source": [
    "%%timeit\n",
    "with open(\"bird.dill\", \"wb\") as f:\n",
    "    dill.dump(b, f)"
   ]
  },
  {
   "cell_type": "code",
   "execution_count": null,
   "id": "cf659587-f939-407e-9881-2da3ab47cd46",
   "metadata": {},
   "outputs": [],
   "source": [
    "os.path.getsize(\"bird.dill\")"
   ]
  },
  {
   "cell_type": "markdown",
   "id": "56b89f34-b837-4e17-ba2c-d8ff60faa035",
   "metadata": {},
   "source": [
    "### msgpack"
   ]
  },
  {
   "cell_type": "code",
   "execution_count": null,
   "id": "6fd3f907-da6c-460a-b025-09cfbadf2147",
   "metadata": {},
   "outputs": [],
   "source": [
    "%%timeit\n",
    "with open(\"msgpack_bird.bin\", \"wb\") as f:\n",
    "    msgpack.dump(b.__dict__, f)"
   ]
  },
  {
   "cell_type": "code",
   "execution_count": null,
   "id": "ed342798-4b1d-40ad-817a-cbea1083993a",
   "metadata": {},
   "outputs": [],
   "source": [
    "os.path.getsize(\"msgpack_bird.bin\")"
   ]
  },
  {
   "cell_type": "markdown",
   "id": "996f10bd-9945-4d14-b71a-50cefff6dbfa",
   "metadata": {},
   "source": [
    "### Marshmallow"
   ]
  },
  {
   "cell_type": "code",
   "execution_count": null,
   "id": "722dc44c-55ad-4ac1-8581-abedb4f7e296",
   "metadata": {},
   "outputs": [],
   "source": [
    "result = schema.dumps(b)"
   ]
  },
  {
   "cell_type": "code",
   "execution_count": null,
   "id": "bc21a47c-2807-4afd-ae41-39a83871fb85",
   "metadata": {},
   "outputs": [],
   "source": [
    "%%timeit\n",
    "with open(\"marshmallow_bird.json\", \"w\") as f:\n",
    "    json.dump(result, f)"
   ]
  },
  {
   "cell_type": "code",
   "execution_count": null,
   "id": "43ef5909-99e7-4b60-a7e3-4d9e341ea5e6",
   "metadata": {},
   "outputs": [],
   "source": [
    "os.path.getsize(\"marshmallow_bird.json\")"
   ]
  },
  {
   "cell_type": "markdown",
   "id": "d82f8e21-aa41-4e81-8d83-6d22926a7615",
   "metadata": {},
   "source": [
    "## Complex Objects"
   ]
  },
  {
   "cell_type": "code",
   "execution_count": null,
   "id": "8ba11f2a-974f-4ecc-94ff-0299f3847dfa",
   "metadata": {
    "jupyter": {
     "source_hidden": true
    },
    "tags": []
   },
   "outputs": [],
   "source": [
    "def test(target):\n",
    "    try:\n",
    "        with open(\"test.json\", \"w\") as f:\n",
    "            json.dump(target, f)\n",
    "        with open(\"test.json\", \"r\") as f:\n",
    "            json.load(f)\n",
    "        print(\"JSON succeeds\")\n",
    "    except:\n",
    "        print(\"JSON fails\")\n",
    "    try:\n",
    "        with open(\"test.pkl\", \"wb\") as f:\n",
    "            pickle.dump(target, f)\n",
    "        with open(\"test.pkl\", \"rb\") as f:\n",
    "            pickle.load(f)\n",
    "        print(\"Pickle succeeds\")\n",
    "    except:\n",
    "        print(\"Pickle fails\")\n",
    "    try:\n",
    "        with open(\"test.dill\", \"wb\") as f:\n",
    "            dill.dump(target, f)\n",
    "        with open(\"test.dill\", \"rb\") as f:\n",
    "            dill.load(f)\n",
    "        print(\"Dill succeeds\")\n",
    "    except:\n",
    "        print(\"Dill fails\")"
   ]
  },
  {
   "cell_type": "code",
   "execution_count": null,
   "id": "dc1f6d92-4fec-42dc-9a6f-57d8ab328ae9",
   "metadata": {},
   "outputs": [],
   "source": [
    "import numpy as np\n",
    "\n",
    "test(np.random.rand(5, 5))"
   ]
  },
  {
   "cell_type": "code",
   "execution_count": null,
   "id": "7f8ebda3-6fd3-419c-947a-f14693ca9f85",
   "metadata": {},
   "outputs": [],
   "source": [
    "test(print)"
   ]
  },
  {
   "cell_type": "code",
   "execution_count": null,
   "id": "7ad3afa8-3860-4b29-8196-8744f9ccd7e0",
   "metadata": {},
   "outputs": [],
   "source": [
    "test(lambda x: x * 2)"
   ]
  },
  {
   "cell_type": "markdown",
   "id": "b8d5fc63-01ee-4c7c-ab02-b7300fdec97c",
   "metadata": {},
   "source": [
    "## Schema Versioning and Evolution"
   ]
  },
  {
   "cell_type": "code",
   "execution_count": null,
   "id": "062c20f3-364f-48e2-953a-20e8e3f2ab7a",
   "metadata": {},
   "outputs": [],
   "source": [
    "class FakeObject:\n",
    "    def __init__(self, a=0, b=0):\n",
    "        self.a = a\n",
    "        self.b = b"
   ]
  },
  {
   "cell_type": "code",
   "execution_count": null,
   "id": "dee75731-7ac8-4d16-a168-37f9594ece4f",
   "metadata": {},
   "outputs": [],
   "source": [
    "version1 = FakeObject(1, 1)"
   ]
  },
  {
   "cell_type": "code",
   "execution_count": null,
   "id": "e8303a4f-2e7d-4910-9120-34875349346b",
   "metadata": {},
   "outputs": [],
   "source": [
    "with open(\"fake_v1.pkl\", \"wb\") as f:\n",
    "    pickle.dump(version1, f)"
   ]
  },
  {
   "cell_type": "markdown",
   "id": "d1cd0414-06ab-416b-8e2b-dcfdc5e554b1",
   "metadata": {},
   "source": [
    "**New dev joins project**"
   ]
  },
  {
   "cell_type": "markdown",
   "id": "780f73b0-f032-48f5-b3d7-4aa40682aa78",
   "metadata": {},
   "source": [
    "Schemas can change over time. If you don't explicitly account for this versioning or evolution, your code may behave in unexpected ways (or not at all).\n",
    "\n",
    "This may not matter for hobby projects, but think about large client/server architectures where clients may be operating on different schema versions. This is the support that you get from Avro/Protobuf without building the logic yourself."
   ]
  },
  {
   "cell_type": "markdown",
   "id": "d2d20e30-48fa-4c83-869a-7de2c5dc27f7",
   "metadata": {},
   "source": [
    "## Bad Pickles"
   ]
  },
  {
   "cell_type": "code",
   "execution_count": null,
   "id": "c77c3946-81d3-435b-957e-c8f3333c2be3",
   "metadata": {},
   "outputs": [],
   "source": [
    "import os\n",
    "\n",
    "\n",
    "class Bird_Counter:\n",
    "    def __reduce__(self):\n",
    "        cmd = \"echo this is bad\"\n",
    "        return os.system, (cmd,)\n",
    "\n",
    "\n",
    "r = Bird_Counter()\n",
    "# ref: https://davidhamann.de/2020/04/05/exploiting-python-pickle/"
   ]
  },
  {
   "cell_type": "code",
   "execution_count": null,
   "id": "8b25ba98-c622-4499-8dee-88e7877092fd",
   "metadata": {},
   "outputs": [],
   "source": [
    "with open(\"bad.pkl\", \"wb\") as f:\n",
    "    pickle.dump(r, f)"
   ]
  },
  {
   "cell_type": "markdown",
   "id": "574748d6-9922-4b8c-b88b-92e363f69cbd",
   "metadata": {},
   "source": [
    "## Conclusion\n",
    "\n",
    "Your serialization format is a design decision that impacts speed, interoperability, and security. Choose the right tool for the right job."
   ]
  }
 ],
 "metadata": {
  "kernelspec": {
   "display_name": "Python 3",
   "language": "python",
   "name": "python3"
  },
  "language_info": {
   "codemirror_mode": {
    "name": "ipython",
    "version": 3
   },
   "file_extension": ".py",
   "mimetype": "text/x-python",
   "name": "python",
   "nbconvert_exporter": "python",
   "pygments_lexer": "ipython3",
   "version": "3.9.9"
  }
 },
 "nbformat": 4,
 "nbformat_minor": 5
}
